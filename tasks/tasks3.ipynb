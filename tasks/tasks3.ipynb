{
 "cells": [
  {
   "cell_type": "markdown",
   "id": "1b150a48",
   "metadata": {},
   "source": [
    "# Session 4: Convolutional Neural Networks and Filters\n",
    "\n",
    "This notebook contains structured tasks based on Session 4 materials.\n",
    "\n",
    "**Instructions:**\n",
    "- Do NOT use a separate `.py` file. Complete all tasks directly in this notebook.\n",
    "- Keep your code clear and well-commented.\n",
    "- For Visulaization, please use `%matplotlib inline`\n",
    "- Submit your completed notebook by uploading it to your forked repository.\n",
    "\n",
    "### ***DO NOT UPLOAD THE DATASET TO GITHUB as it's too large***\n",
    "<hr>"
   ]
  },
  {
   "cell_type": "markdown",
   "id": "f54839d8",
   "metadata": {},
   "source": [
    "## Task 1: Convolutional Filters on an Image\n",
    "Apply several 2D filters (Sobel X, Sobel Y, Laplacian, and Sharpen) to an image and visualize the results side by side.\n",
    "\n",
    "**Hint:**\n",
    "- Use OpenCV (`cv2.filter2D`) or NumPy to apply kernels.\n",
    "- Define common kernels (Sobel, Laplacian, Sharpen).\n",
    "- Use `matplotlib.pyplot` to plot the original and filtered images."
   ]
  },
  {
   "cell_type": "code",
   "execution_count": null,
   "id": "e9b40172",
   "metadata": {},
   "outputs": [],
   "source": [
    "# TODO: Load an image (use OpenCV or matplotlib)\n",
    "# TODO: Convert to grayscale\n",
    "# TODO: Define Sobel, Laplacian, and Sharpen kernels\n",
    "# TODO: Apply each filter to the image\n",
    "# TODO: Plot results in a grid using matplotlib"
   ]
  },
  {
   "cell_type": "markdown",
   "id": "fdfcfb92",
   "metadata": {},
   "source": [
    "## Task 2: Build a Simple CNN on FashionMNIST\n",
    "Construct and train a small Convolutional Neural Network (CNN) on the FashionMNIST dataset.\n",
    "\n",
    "**Hint:**\n",
    "- Use `torchvision.datasets.FashionMNIST` for loading data.\n",
    "- Define a small CNN with `nn.Conv2d`, `nn.ReLU`, `nn.MaxPool2d`, and `nn.Linear`.\n",
    "- Train for a few epochs using an optimizer (e.g., Adam) and loss function (e.g., CrossEntropyLoss).\n",
    "- Print training accuracy after each epoch."
   ]
  },
  {
   "cell_type": "code",
   "execution_count": null,
   "id": "42fa15ba",
   "metadata": {},
   "outputs": [],
   "source": [
    "# TODO: Import torch, torchvision, and related libraries\n",
    "# TODO: Load FashionMNIST dataset with transforms\n",
    "# TODO: Define a simple CNN class with one conv layer and one fc layer\n",
    "# TODO: Set up optimizer and loss function\n",
    "# TODO: Implement a short training loop (2-3 epochs)"
   ]
  },
  {
   "cell_type": "markdown",
   "id": "24d46b51",
   "metadata": {},
   "source": [
    "## Task 3: Visualize Feature Maps\n",
    "Visualize feature maps produced by the first convolutional layer of your CNN.\n",
    "\n",
    "**Hint:**\n",
    "- Take a single image from the test set.\n",
    "- Pass it through the first convolutional layer (`net.conv1`).\n",
    "- Convert the output to NumPy and plot several channels as images."
   ]
  },
  {
   "cell_type": "code",
   "execution_count": null,
   "id": "6ec994df",
   "metadata": {},
   "outputs": [],
   "source": [
    "# TODO: Take one test image\n",
    "# TODO: Forward pass through the first convolutional layer\n",
    "# TODO: Convert feature maps to NumPy array\n",
    "# TODO: Plot the first few feature maps in a grid"
   ]
  },
  {
   "cell_type": "markdown",
   "id": "b40f3596",
   "metadata": {},
   "source": [
    "## Task 4: Haar Cascade Face Detection\n",
    "\n",
    "Apply Haar Cascade classifiers for basic object detection (faces).\n",
    "\n",
    "**Hint:**\n",
    "- Use `cv2.CascadeClassifier` with a pre-trained XML file (e.g., `haarcascade_frontalface_default.xml`).\n",
    "- Convert the input image to grayscale before detection.\n",
    "- Use `detectMultiScale` to get bounding boxes.\n",
    "- Draw rectangles on detected faces with `cv2.rectangle`.\n",
    "- Visualize with Matplotlib.\n"
   ]
  },
  {
   "cell_type": "code",
   "execution_count": null,
   "id": "65b82af7",
   "metadata": {},
   "outputs": [],
   "source": [
    "# TODO: Load an image containing a face\n",
    "# TODO: Convert to grayscale\n",
    "# TODO: Load Haar Cascade XML (frontal face) || cv2.CascadeClassifier(cv2.data.haarcascades + 'haarcascade_frontalface_default.xml')\n",
    "# TODO: Apply detectMultiScale to find faces\n",
    "# TODO: Draw bounding boxes on the original image\n",
    "# TODO: Display results with matplotlib\n"
   ]
  }
 ],
 "metadata": {
  "language_info": {
   "name": "python"
  }
 },
 "nbformat": 4,
 "nbformat_minor": 5
}
